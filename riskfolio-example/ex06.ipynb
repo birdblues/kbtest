{
 "cells": [
  {
   "cell_type": "code",
   "execution_count": 6,
   "metadata": {},
   "outputs": [],
   "source": [
    "import pandas as pd\n",
    "import numpy as np\n",
    "import riskfolio as rp\n",
    "\n",
    "# 가상의 자산 수익률 데이터 생성 (12개의 자산, 1000일의 수익률)\n",
    "np.random.seed(42)\n",
    "n_assets = 12\n",
    "n_obs = 1000\n",
    "\n",
    "assets = ['AAPL', 'MSFT', 'GOOGL', 'JPM', 'BAC', 'WFC', 'XOM', 'CVX', 'TSLA', 'GE', 'CAT', 'MMM']\n",
    "returns = np.random.randn(n_obs, n_assets) / 100  # 무작위 수익률 데이터\n",
    "\n",
    "Y = pd.DataFrame(returns, columns=assets)\n"
   ]
  },
  {
   "cell_type": "code",
   "execution_count": 7,
   "metadata": {},
   "outputs": [],
   "source": [
    "import pandas as pd\n",
    "\n",
    "# 자산과 산업 섹터를 정의\n",
    "asset_classes = {\n",
    "    'Assets': ['AAPL', 'MSFT', 'GOOGL', 'JPM', 'BAC', 'WFC', 'XOM', 'CVX', 'TSLA', 'GE', 'CAT', 'MMM'],\n",
    "    'Industry': ['Tech', 'Tech', 'Tech', 'Finance', 'Finance', 'Finance', \n",
    "                 'Energy', 'Energy', 'Industrials', 'Industrials', 'Industrials', 'Industrials']\n",
    "}\n",
    "\n",
    "asset_classes = pd.DataFrame(asset_classes)\n"
   ]
  },
  {
   "cell_type": "code",
   "execution_count": 8,
   "metadata": {},
   "outputs": [],
   "source": [
    "views = {\n",
    "    'Disabled': [False, False],               # 뷰가 활성화 되어 있음\n",
    "    'Type': ['Classes', 'Classes'],           # 뷰의 타입은 자산 클래스에 기반\n",
    "    'Set': ['Industry', 'Industry'],          # 산업 섹터를 기준으로 뷰를 설정\n",
    "    'Position': ['Tech', 'Energy'],           # Tech 섹터와 Energy 섹터에 대한 뷰를 정의\n",
    "    'Sign': ['>=', '<='],                     # Tech 섹터는 상대적으로 더 높게, Energy 섹터는 더 낮게 예상\n",
    "    'Weight': [0.02, -0.01],                  # Tech는 2% 이상, Energy는 1% 이하 수익률 차이를 예상\n",
    "    'Type Relative': ['Classes', 'Classes'],  # 비교하는 상대도 자산 클래스\n",
    "    'Relative Set': ['Industry', 'Industry'], # 비교 기준도 산업 섹터\n",
    "    'Relative': ['Finance', 'Industrials']    # Tech는 Finance와, Energy는 Industrials와 비교\n",
    "}\n",
    "\n",
    "views = pd.DataFrame(views)\n"
   ]
  },
  {
   "cell_type": "code",
   "execution_count": 9,
   "metadata": {},
   "outputs": [
    {
     "data": {
      "text/plain": [
       "array([[ 0.33333333,  0.33333333,  0.33333333, -0.33333333, -0.33333333,\n",
       "        -0.33333333,  0.        ,  0.        ,  0.        ,  0.        ,\n",
       "         0.        ,  0.        ],\n",
       "       [-0.        , -0.        , -0.        , -0.        , -0.        ,\n",
       "        -0.        , -0.5       , -0.5       ,  0.25      ,  0.25      ,\n",
       "         0.25      ,  0.25      ]])"
      ]
     },
     "metadata": {},
     "output_type": "display_data"
    },
    {
     "data": {
      "text/plain": [
       "array([[0.02],\n",
       "       [0.01]])"
      ]
     },
     "metadata": {},
     "output_type": "display_data"
    }
   ],
   "source": [
    "import riskfolio as rp\n",
    "\n",
    "# 투자자의 뷰를 기반으로 P와 Q 매트릭스 생성\n",
    "P, Q = rp.assets_views(views, asset_classes)\n",
    "display(P)\n",
    "display(Q)"
   ]
  },
  {
   "cell_type": "code",
   "execution_count": 18,
   "metadata": {},
   "outputs": [
    {
     "data": {
      "text/plain": [
       "array([[ 0.5,  0.5,  0. ,  0. ,  0. ,  0. , -0.5, -0.5,  0. ,  0. ,  0. ,\n",
       "         0. ],\n",
       "       [-0. , -0. , -0. , -0. , -0.5, -0.5, -0. , -0. , -0. , -0. ,  0.5,\n",
       "         0.5]])"
      ]
     },
     "metadata": {},
     "output_type": "display_data"
    },
    {
     "data": {
      "text/plain": [
       "array([[0.02],\n",
       "       [0.01]])"
      ]
     },
     "metadata": {},
     "output_type": "display_data"
    },
    {
     "name": "stdout",
     "output_type": "stream",
     "text": [
      "[[0.08333333]\n",
      " [0.08333333]\n",
      " [0.08333333]\n",
      " [0.08333333]\n",
      " [0.08333333]\n",
      " [0.08333333]\n",
      " [0.08333333]\n",
      " [0.08333333]\n",
      " [0.08333333]\n",
      " [0.08333333]\n",
      " [0.08333333]\n",
      " [0.08333333]]\n",
      "최적화된 포트폴리오 가중치:\n"
     ]
    },
    {
     "data": {
      "text/html": [
       "<div>\n",
       "<style scoped>\n",
       "    .dataframe tbody tr th:only-of-type {\n",
       "        vertical-align: middle;\n",
       "    }\n",
       "\n",
       "    .dataframe tbody tr th {\n",
       "        vertical-align: top;\n",
       "    }\n",
       "\n",
       "    .dataframe thead th {\n",
       "        text-align: right;\n",
       "    }\n",
       "</style>\n",
       "<table border=\"1\" class=\"dataframe\">\n",
       "  <thead>\n",
       "    <tr style=\"text-align: right;\">\n",
       "      <th></th>\n",
       "      <th>Asset 1</th>\n",
       "      <th>Asset 2</th>\n",
       "      <th>Asset 3</th>\n",
       "      <th>Asset 4</th>\n",
       "      <th>Asset 5</th>\n",
       "      <th>Asset 6</th>\n",
       "      <th>Asset 7</th>\n",
       "      <th>Asset 8</th>\n",
       "      <th>Asset 9</th>\n",
       "      <th>Asset 10</th>\n",
       "      <th>Asset 11</th>\n",
       "      <th>Asset 12</th>\n",
       "    </tr>\n",
       "  </thead>\n",
       "  <tbody>\n",
       "    <tr>\n",
       "      <th>weights</th>\n",
       "      <td>0.1557</td>\n",
       "      <td>0.30609</td>\n",
       "      <td>0.121569</td>\n",
       "      <td>1.489530e-09</td>\n",
       "      <td>4.068372e-10</td>\n",
       "      <td>6.654328e-10</td>\n",
       "      <td>1.997796e-10</td>\n",
       "      <td>1.823195e-10</td>\n",
       "      <td>0.160399</td>\n",
       "      <td>0.030897</td>\n",
       "      <td>0.005235</td>\n",
       "      <td>0.220109</td>\n",
       "    </tr>\n",
       "  </tbody>\n",
       "</table>\n",
       "</div>"
      ],
      "text/plain": [
       "         Asset 1  Asset 2   Asset 3       Asset 4       Asset 5       Asset 6  \\\n",
       "weights   0.1557  0.30609  0.121569  1.489530e-09  4.068372e-10  6.654328e-10   \n",
       "\n",
       "              Asset 7       Asset 8   Asset 9  Asset 10  Asset 11  Asset 12  \n",
       "weights  1.997796e-10  1.823195e-10  0.160399  0.030897  0.005235  0.220109  "
      ]
     },
     "metadata": {},
     "output_type": "display_data"
    }
   ],
   "source": [
    "import numpy as np\n",
    "import pandas as pd\n",
    "import riskfolio as rp\n",
    "\n",
    "# 가상의 자산 수익률 데이터 생성 (12개의 자산, 1000일의 수익률)\n",
    "np.random.seed(42)\n",
    "n_assets = 12\n",
    "n_obs = 1000\n",
    "\n",
    "assets = ['Asset ' + str(i) for i in range(1, n_assets + 1)]\n",
    "returns = np.random.randn(n_obs, n_assets) / 100  # 무작위 수익률 데이터\n",
    "\n",
    "Y = pd.DataFrame(returns, columns=assets)\n",
    "\n",
    "# 자산 클래스 정의\n",
    "asset_classes = {\n",
    "    'Assets': assets,\n",
    "    'Industry': ['Tech', 'Tech', 'Health', 'Health', 'Energy', 'Energy', \n",
    "                 'Finance', 'Finance', 'Utilities', 'Utilities', 'Industrials', 'Industrials']\n",
    "}\n",
    "\n",
    "asset_classes = pd.DataFrame(asset_classes)\n",
    "\n",
    "# 투자자의 뷰 정의\n",
    "views = {\n",
    "    'Disabled': [False, False],\n",
    "    'Type': ['Classes', 'Classes'],\n",
    "    'Set': ['Industry', 'Industry'],\n",
    "    'Position': ['Tech', 'Energy'],\n",
    "    'Sign': ['>=', '<='],\n",
    "    'Weight': [0.02, -0.01],  # Tech의 예상 초과수익률 2%, Energy의 예상 초과수익률 -1%\n",
    "    'Type Relative': ['Classes', 'Classes'],\n",
    "    'Relative Set': ['Industry', 'Industry'],\n",
    "    'Relative': ['Finance', 'Industrials']\n",
    "}\n",
    "\n",
    "views = pd.DataFrame(views)\n",
    "\n",
    "# P와 Q 매트릭스 생성\n",
    "P, Q = rp.assets_views(views, asset_classes)\n",
    "\n",
    "display(P)\n",
    "display(Q)\n",
    "\n",
    "# 포트폴리오 객체 생성\n",
    "port = rp.Portfolio(returns=Y)\n",
    "\n",
    "# 자산 기대 수익률과 공분산 행렬 추정\n",
    "port.assets_stats(method_mu='hist', method_cov='hist')\n",
    "\n",
    "# 초기 자산 가중치를 설정\n",
    "initial_weights = np.array([1/n_assets] * n_assets).reshape(-1, 1)  # 균등 가중치로 초기화, 올바른 차원으로 변환\n",
    "\n",
    "print(initial_weights)\n",
    "# Black-Litterman 모델에 맞춘 통계값 계산\n",
    "port.blacklitterman_stats(P, Q, rf=0.01, w=initial_weights, delta=None, eq=True)\n",
    "\n",
    "port.solvers = ['MOSEK']  # 최적화에 사용할 솔버 설정\n",
    "# 최적의 포트폴리오 계산\n",
    "w_bl = port.optimization(model='BL', rm='MV', obj='Sharpe', rf=0, l=0, hist=False)\n",
    "\n",
    "# 최적의 포트폴리오 가중치 출력\n",
    "print(\"최적화된 포트폴리오 가중치:\")\n",
    "display(w_bl.T)\n"
   ]
  }
 ],
 "metadata": {
  "kernelspec": {
   "display_name": "new_env",
   "language": "python",
   "name": "python3"
  },
  "language_info": {
   "codemirror_mode": {
    "name": "ipython",
    "version": 3
   },
   "file_extension": ".py",
   "mimetype": "text/x-python",
   "name": "python",
   "nbconvert_exporter": "python",
   "pygments_lexer": "ipython3",
   "version": "3.10.14"
  }
 },
 "nbformat": 4,
 "nbformat_minor": 2
}
