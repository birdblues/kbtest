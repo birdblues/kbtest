{
 "cells": [
  {
   "cell_type": "code",
   "execution_count": 5,
   "metadata": {},
   "outputs": [
    {
     "name": "stdout",
     "output_type": "stream",
     "text": [
      "['2019-01-01' '2019-02-05' '2019-02-04' '2019-02-06' '2019-03-01'\n",
      " '2019-05-12' '2019-05-05' '2019-06-06' '2019-08-15' '2019-10-03'\n",
      " '2019-10-09' '2019-09-13' '2019-09-12' '2019-09-14' '2019-12-25'\n",
      " '2019-05-06']\n",
      "2019-07-01부터 2019-07-20까지의 조업일수는 15일입니다.\n"
     ]
    }
   ],
   "source": [
    "import pandas as pd\n",
    "import numpy as np\n",
    "import holidays\n",
    "from datetime import datetime\n",
    "\n",
    "def get_korean_holidays(year):\n",
    "    korean_holidays = holidays.KR(years=year)\n",
    "    return korean_holidays\n",
    "\n",
    "# 특정 날짜로부터 조업일수를 계산하는 함수\n",
    "def calculate_business_days(start_date, end_date, holidays):\n",
    "    start_date = np.datetime64(start_date)\n",
    "    end_date = np.datetime64(end_date)\n",
    "    business_days = np.busday_count(start_date, end_date, holidays=holidays)\n",
    "    return business_days\n",
    "\n",
    "# 2024년의 공휴일 가져오기\n",
    "year = 2019\n",
    "holidays = get_korean_holidays(year)\n",
    "holidays = np.array(pd.to_datetime(list(holidays.keys())).date, dtype='datetime64[D]')\n",
    "print(holidays)\n",
    "\n",
    "# 오늘 날짜와 특정 날짜 설정\n",
    "start_date = '2019-07-01'\n",
    "end_date = '2019-07-20' \n",
    "\n",
    "# 조업일수 계산\n",
    "business_days = calculate_business_days(start_date, end_date, holidays)\n",
    "print(f'{start_date}부터 {end_date}까지의 조업일수는 {business_days}일입니다.')\n"
   ]
  }
 ],
 "metadata": {
  "kernelspec": {
   "display_name": "my_env",
   "language": "python",
   "name": "python3"
  },
  "language_info": {
   "codemirror_mode": {
    "name": "ipython",
    "version": 3
   },
   "file_extension": ".py",
   "mimetype": "text/x-python",
   "name": "python",
   "nbconvert_exporter": "python",
   "pygments_lexer": "ipython3",
   "version": "3.10.13"
  }
 },
 "nbformat": 4,
 "nbformat_minor": 2
}
