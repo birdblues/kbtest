{
 "cells": [
  {
   "cell_type": "code",
   "execution_count": 8,
   "metadata": {},
   "outputs": [
    {
     "name": "stderr",
     "output_type": "stream",
     "text": [
      "[*********************100%%**********************]  2 of 2 completed"
     ]
    },
    {
     "name": "stdout",
     "output_type": "stream",
     "text": [
      "Optimal portfolio weights based on Black-Litterman model:\n",
      "                weights\n",
      "360200.KS  2.736106e-13\n",
      "449170.KS  1.000000e+00\n"
     ]
    },
    {
     "name": "stderr",
     "output_type": "stream",
     "text": [
      "\n"
     ]
    }
   ],
   "source": [
    "import numpy as np\n",
    "import pandas as pd\n",
    "import yfinance as yf\n",
    "import riskfolio as rp\n",
    "\n",
    "# Helper function for Black-Litterman model\n",
    "def black_litterman(mu_market, cov_matrix, P, Q, omega):\n",
    "    tau = 0.025  # scaling factor typically used in Black-Litterman\n",
    "    M_inverse = np.linalg.inv(tau * cov_matrix)\n",
    "    \n",
    "    # Calculate the intermediate matrices\n",
    "    P_T = P.T\n",
    "    omega_inverse = np.linalg.inv(omega)\n",
    "    \n",
    "    # Calculate the posterior mean (mu_bl) and posterior covariance (cov_bl)\n",
    "    mu_bl = np.linalg.inv(M_inverse + P_T @ omega_inverse @ P) @ (M_inverse @ mu_market + P_T @ omega_inverse @ Q)\n",
    "    cov_bl = np.linalg.inv(M_inverse + P_T @ omega_inverse @ P)\n",
    "    \n",
    "    return mu_bl, cov_bl\n",
    "\n",
    "# 1. Download stock and bond data using yfinance\n",
    "\n",
    "tickers = ['360200.KS', '449170.KS']  # Stocks (KODEX 200 ETF) and Bonds (KOSEF 단기채권)\n",
    "data = yf.download(tickers, start='2022-01-01', end='2023-01-01')['Adj Close']\n",
    "\n",
    "# Calculate daily returns\n",
    "returns = data.pct_change().dropna()\n",
    "\n",
    "# Market implied returns (Prior) - assumed returns for the assets\n",
    "mu_market = returns.mean().values  # Expected returns for stocks and bonds\n",
    "cov_matrix = returns.cov().values  # Covariance matrix for stocks and bonds\n",
    "\n",
    "# 2. Define views (P) and uncertainty (omega) based on scenarios\n",
    "\n",
    "# Define views based on scenarios (P matrix)\n",
    "P = np.array([[1, 0],  # View 1: stocks expected to increase\n",
    "              [1, 0],  # View 2: stocks expected to increase more\n",
    "              [1, 0],  # View 3: stocks expected to increase slightly\n",
    "              [1, 0]]) # View 4: stocks expected to fall\n",
    "\n",
    "# Expected returns based on each scenario (Q vector)\n",
    "Q = np.array([0.0804, 0.103, 0.02, -0.079])  # Scenario 1, 2, 3, 4 expected returns\n",
    "\n",
    "# View uncertainty (Omega matrix)\n",
    "omega = np.diag([0.005, 0.01, 0.005, 0.02])  # Uncertainty for each view\n",
    "\n",
    "# 3. Implement Black-Litterman model using custom function\n",
    "\n",
    "mu_bl, cov_bl = black_litterman(mu_market, cov_matrix, P, Q, omega)\n",
    "\n",
    "# 4. Optimize portfolio\n",
    "\n",
    "# Create portfolio object\n",
    "port = rp.Portfolio(returns=returns)\n",
    "\n",
    "# Set the Black-Litterman expected returns and covariance\n",
    "port.mu = pd.Series(mu_bl, index=['360200.KS', '449170.KS'])\n",
    "port.cov = pd.DataFrame(cov_bl, index=['360200.KS', '449170.KS'], columns=['360200.KS', '449170.KS'])\n",
    "\n",
    "# Set constraints (e.g., weights sum to 1, non-negative weights)\n",
    "port.constraints = {'min_weights': [0, 0], 'max_weights': [1, 1]}  # No short selling\n",
    "\n",
    "# Optimize portfolio for maximum Sharpe ratio\n",
    "weights = port.optimization(model='Classic', rm='MV', obj='Sharpe')\n",
    "\n",
    "# Display the resulting optimal portfolio weights\n",
    "print(\"Optimal portfolio weights based on Black-Litterman model:\")\n",
    "print(weights)\n"
   ]
  }
 ],
 "metadata": {
  "kernelspec": {
   "display_name": "my_env",
   "language": "python",
   "name": "python3"
  },
  "language_info": {
   "codemirror_mode": {
    "name": "ipython",
    "version": 3
   },
   "file_extension": ".py",
   "mimetype": "text/x-python",
   "name": "python",
   "nbconvert_exporter": "python",
   "pygments_lexer": "ipython3",
   "version": "3.10.14"
  }
 },
 "nbformat": 4,
 "nbformat_minor": 2
}
